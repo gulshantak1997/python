{
 "cells": [
  {
   "cell_type": "code",
   "execution_count": 1,
   "metadata": {},
   "outputs": [],
   "source": [
    "class A:\n",
    "    __slots__=['name','age','color']\n",
    "    "
   ]
  },
  {
   "cell_type": "code",
   "execution_count": 2,
   "metadata": {},
   "outputs": [
    {
     "data": {
      "text/plain": [
       "<member 'name' of 'A' objects>"
      ]
     },
     "execution_count": 2,
     "metadata": {},
     "output_type": "execute_result"
    }
   ],
   "source": [
    "A.name"
   ]
  },
  {
   "cell_type": "code",
   "execution_count": 3,
   "metadata": {},
   "outputs": [],
   "source": [
    "a=A()"
   ]
  },
  {
   "cell_type": "code",
   "execution_count": 4,
   "metadata": {},
   "outputs": [],
   "source": [
    "a.name='sachin'"
   ]
  },
  {
   "cell_type": "code",
   "execution_count": 6,
   "metadata": {},
   "outputs": [
    {
     "data": {
      "text/plain": [
       "'sachin'"
      ]
     },
     "execution_count": 6,
     "metadata": {},
     "output_type": "execute_result"
    }
   ],
   "source": [
    "a.name"
   ]
  },
  {
   "cell_type": "code",
   "execution_count": 7,
   "metadata": {},
   "outputs": [
    {
     "ename": "AttributeError",
     "evalue": "'A' object has no attribute '__dict__'",
     "output_type": "error",
     "traceback": [
      "\u001b[1;31m---------------------------------------------------------------------------\u001b[0m",
      "\u001b[1;31mAttributeError\u001b[0m                            Traceback (most recent call last)",
      "\u001b[1;32m<ipython-input-7-24d50c1843f4>\u001b[0m in \u001b[0;36m<module>\u001b[1;34m()\u001b[0m\n\u001b[1;32m----> 1\u001b[1;33m \u001b[0ma\u001b[0m\u001b[1;33m.\u001b[0m\u001b[0m__dict__\u001b[0m\u001b[1;33m\u001b[0m\u001b[0m\n\u001b[0m",
      "\u001b[1;31mAttributeError\u001b[0m: 'A' object has no attribute '__dict__'"
     ]
    }
   ],
   "source": [
    "a.__dict__"
   ]
  },
  {
   "cell_type": "code",
   "execution_count": 8,
   "metadata": {},
   "outputs": [],
   "source": [
    "l=[1,2,3,4]"
   ]
  },
  {
   "cell_type": "code",
   "execution_count": 9,
   "metadata": {},
   "outputs": [
    {
     "ename": "AttributeError",
     "evalue": "'list' object attribute 'append' is read-only",
     "output_type": "error",
     "traceback": [
      "\u001b[1;31m---------------------------------------------------------------------------\u001b[0m",
      "\u001b[1;31mAttributeError\u001b[0m                            Traceback (most recent call last)",
      "\u001b[1;32m<ipython-input-9-88cce0c255d7>\u001b[0m in \u001b[0;36m<module>\u001b[1;34m()\u001b[0m\n\u001b[1;32m----> 1\u001b[1;33m \u001b[0ml\u001b[0m\u001b[1;33m.\u001b[0m\u001b[0mappend\u001b[0m\u001b[1;33m=\u001b[0m\u001b[1;34m\"hi\"\u001b[0m\u001b[1;33m\u001b[0m\u001b[0m\n\u001b[0m",
      "\u001b[1;31mAttributeError\u001b[0m: 'list' object attribute 'append' is read-only"
     ]
    }
   ],
   "source": [
    "l.append=\"hi\""
   ]
  },
  {
   "cell_type": "code",
   "execution_count": 10,
   "metadata": {},
   "outputs": [],
   "source": [
    "l.append(\"hi\")"
   ]
  },
  {
   "cell_type": "code",
   "execution_count": 11,
   "metadata": {},
   "outputs": [
    {
     "data": {
      "text/plain": [
       "[1, 2, 3, 4, 'hi']"
      ]
     },
     "execution_count": 11,
     "metadata": {},
     "output_type": "execute_result"
    }
   ],
   "source": [
    "l"
   ]
  },
  {
   "cell_type": "markdown",
   "metadata": {},
   "source": [
    "By default data is setter"
   ]
  },
  {
   "cell_type": "markdown",
   "metadata": {},
   "source": [
    "when we do the same thing of generator by class then it is called Iterator"
   ]
  },
  {
   "cell_type": "markdown",
   "metadata": {},
   "source": [
    "raise command is used to bring any error according to us"
   ]
  },
  {
   "cell_type": "markdown",
   "metadata": {},
   "source": [
    "import os"
   ]
  },
  {
   "cell_type": "markdown",
   "metadata": {},
   "source": [
    "os.system('cls')"
   ]
  },
  {
   "cell_type": "markdown",
   "metadata": {},
   "source": [
    "This command is used to clear the screen"
   ]
  },
  {
   "cell_type": "code",
   "execution_count": null,
   "metadata": {},
   "outputs": [],
   "source": []
  },
  {
   "cell_type": "code",
   "execution_count": null,
   "metadata": {},
   "outputs": [],
   "source": []
  },
  {
   "cell_type": "code",
   "execution_count": 67,
   "metadata": {},
   "outputs": [],
   "source": [
    "from tkinter import *\n",
    "root=tk.Tk()\n",
    "\n",
    "'''main_frame=tk.Frame(root)\n",
    "main_frame.pack()\n",
    "label=tk.Label(main_frame,text=\"Hello world i am label\")\n",
    "label.pack()\n",
    "main_frame.pack()'''\n",
    "\n",
    "\n",
    "root.title(\"My Application\")\n",
    "#root.minsize(400,400)\n",
    "#root.maxsize(500,500)\n",
    "root.geometry('600x500')\n",
    "\n",
    "\n",
    "l1=Label(root,text=\"User name:-\",font=('Monotype corsiva',15,'bold'),fg='Red')\n",
    "l1.place(x=50,y=50)\n",
    "e1=Entry(root,font=('Monotype corsiva',15,'bold'),fg='Red')\n",
    "e1.place(x=160,y=50)\n",
    "l2=Label(root,text=\"Password\",font=('Monotype corsiva',15,'bold'),fg='Blue')\n",
    "l2.place(x=60,y=80)\n",
    "e2=Entry(root,font=('Arial',15,'bold'),fg='Pink')\n",
    "e2.place(x=160,y=80)\n",
    "b1=Button(root,text='Login',font=('Monotype corsiva',18,'bold'),fg='Orange')\n",
    "b1.place(x=200,y=120)\n",
    "root.mainloop()\n"
   ]
  },
  {
   "cell_type": "code",
   "execution_count": 63,
   "metadata": {},
   "outputs": [
    {
     "data": {
      "text/plain": [
       "['_Misc__winfo_getint',\n",
       " '_Misc__winfo_parseitem',\n",
       " '__class__',\n",
       " '__delattr__',\n",
       " '__dict__',\n",
       " '__dir__',\n",
       " '__doc__',\n",
       " '__eq__',\n",
       " '__format__',\n",
       " '__ge__',\n",
       " '__getattr__',\n",
       " '__getattribute__',\n",
       " '__getitem__',\n",
       " '__gt__',\n",
       " '__hash__',\n",
       " '__init__',\n",
       " '__init_subclass__',\n",
       " '__le__',\n",
       " '__lt__',\n",
       " '__module__',\n",
       " '__ne__',\n",
       " '__new__',\n",
       " '__reduce__',\n",
       " '__reduce_ex__',\n",
       " '__repr__',\n",
       " '__setattr__',\n",
       " '__setitem__',\n",
       " '__sizeof__',\n",
       " '__str__',\n",
       " '__subclasshook__',\n",
       " '__weakref__',\n",
       " '_bind',\n",
       " '_configure',\n",
       " '_displayof',\n",
       " '_getboolean',\n",
       " '_getconfigure',\n",
       " '_getconfigure1',\n",
       " '_getdoubles',\n",
       " '_getints',\n",
       " '_grid_configure',\n",
       " '_gridconvvalue',\n",
       " '_last_child_ids',\n",
       " '_loadtk',\n",
       " '_nametowidget',\n",
       " '_noarg_',\n",
       " '_options',\n",
       " '_register',\n",
       " '_report_exception',\n",
       " '_root',\n",
       " '_subst_format',\n",
       " '_subst_format_str',\n",
       " '_substitute',\n",
       " '_tclCommands',\n",
       " '_tkloaded',\n",
       " '_w',\n",
       " '_windowingsystem',\n",
       " 'after',\n",
       " 'after_cancel',\n",
       " 'after_idle',\n",
       " 'anchor',\n",
       " 'aspect',\n",
       " 'attributes',\n",
       " 'bbox',\n",
       " 'bell',\n",
       " 'bind',\n",
       " 'bind_all',\n",
       " 'bind_class',\n",
       " 'bindtags',\n",
       " 'cget',\n",
       " 'children',\n",
       " 'client',\n",
       " 'clipboard_append',\n",
       " 'clipboard_clear',\n",
       " 'clipboard_get',\n",
       " 'colormapwindows',\n",
       " 'columnconfigure',\n",
       " 'command',\n",
       " 'config',\n",
       " 'configure',\n",
       " 'deiconify',\n",
       " 'deletecommand',\n",
       " 'destroy',\n",
       " 'event_add',\n",
       " 'event_delete',\n",
       " 'event_generate',\n",
       " 'event_info',\n",
       " 'focus',\n",
       " 'focus_displayof',\n",
       " 'focus_force',\n",
       " 'focus_get',\n",
       " 'focus_lastfor',\n",
       " 'focus_set',\n",
       " 'focusmodel',\n",
       " 'forget',\n",
       " 'frame',\n",
       " 'geometry',\n",
       " 'getboolean',\n",
       " 'getdouble',\n",
       " 'getint',\n",
       " 'getvar',\n",
       " 'grab_current',\n",
       " 'grab_release',\n",
       " 'grab_set',\n",
       " 'grab_set_global',\n",
       " 'grab_status',\n",
       " 'grid',\n",
       " 'grid_anchor',\n",
       " 'grid_bbox',\n",
       " 'grid_columnconfigure',\n",
       " 'grid_location',\n",
       " 'grid_propagate',\n",
       " 'grid_rowconfigure',\n",
       " 'grid_size',\n",
       " 'grid_slaves',\n",
       " 'group',\n",
       " 'iconbitmap',\n",
       " 'iconify',\n",
       " 'iconmask',\n",
       " 'iconname',\n",
       " 'iconphoto',\n",
       " 'iconposition',\n",
       " 'iconwindow',\n",
       " 'image_names',\n",
       " 'image_types',\n",
       " 'keys',\n",
       " 'lift',\n",
       " 'loadtk',\n",
       " 'lower',\n",
       " 'mainloop',\n",
       " 'manage',\n",
       " 'master',\n",
       " 'maxsize',\n",
       " 'minsize',\n",
       " 'nametowidget',\n",
       " 'option_add',\n",
       " 'option_clear',\n",
       " 'option_get',\n",
       " 'option_readfile',\n",
       " 'overrideredirect',\n",
       " 'pack_propagate',\n",
       " 'pack_slaves',\n",
       " 'place_slaves',\n",
       " 'positionfrom',\n",
       " 'propagate',\n",
       " 'protocol',\n",
       " 'quit',\n",
       " 'readprofile',\n",
       " 'register',\n",
       " 'report_callback_exception',\n",
       " 'resizable',\n",
       " 'rowconfigure',\n",
       " 'selection_clear',\n",
       " 'selection_get',\n",
       " 'selection_handle',\n",
       " 'selection_own',\n",
       " 'selection_own_get',\n",
       " 'send',\n",
       " 'setvar',\n",
       " 'size',\n",
       " 'sizefrom',\n",
       " 'slaves',\n",
       " 'state',\n",
       " 'title',\n",
       " 'tk',\n",
       " 'tk_bisque',\n",
       " 'tk_focusFollowsMouse',\n",
       " 'tk_focusNext',\n",
       " 'tk_focusPrev',\n",
       " 'tk_setPalette',\n",
       " 'tk_strictMotif',\n",
       " 'tkraise',\n",
       " 'transient',\n",
       " 'unbind',\n",
       " 'unbind_all',\n",
       " 'unbind_class',\n",
       " 'update',\n",
       " 'update_idletasks',\n",
       " 'wait_variable',\n",
       " 'wait_visibility',\n",
       " 'wait_window',\n",
       " 'waitvar',\n",
       " 'winfo_atom',\n",
       " 'winfo_atomname',\n",
       " 'winfo_cells',\n",
       " 'winfo_children',\n",
       " 'winfo_class',\n",
       " 'winfo_colormapfull',\n",
       " 'winfo_containing',\n",
       " 'winfo_depth',\n",
       " 'winfo_exists',\n",
       " 'winfo_fpixels',\n",
       " 'winfo_geometry',\n",
       " 'winfo_height',\n",
       " 'winfo_id',\n",
       " 'winfo_interps',\n",
       " 'winfo_ismapped',\n",
       " 'winfo_manager',\n",
       " 'winfo_name',\n",
       " 'winfo_parent',\n",
       " 'winfo_pathname',\n",
       " 'winfo_pixels',\n",
       " 'winfo_pointerx',\n",
       " 'winfo_pointerxy',\n",
       " 'winfo_pointery',\n",
       " 'winfo_reqheight',\n",
       " 'winfo_reqwidth',\n",
       " 'winfo_rgb',\n",
       " 'winfo_rootx',\n",
       " 'winfo_rooty',\n",
       " 'winfo_screen',\n",
       " 'winfo_screencells',\n",
       " 'winfo_screendepth',\n",
       " 'winfo_screenheight',\n",
       " 'winfo_screenmmheight',\n",
       " 'winfo_screenmmwidth',\n",
       " 'winfo_screenvisual',\n",
       " 'winfo_screenwidth',\n",
       " 'winfo_server',\n",
       " 'winfo_toplevel',\n",
       " 'winfo_viewable',\n",
       " 'winfo_visual',\n",
       " 'winfo_visualid',\n",
       " 'winfo_visualsavailable',\n",
       " 'winfo_vrootheight',\n",
       " 'winfo_vrootwidth',\n",
       " 'winfo_vrootx',\n",
       " 'winfo_vrooty',\n",
       " 'winfo_width',\n",
       " 'winfo_x',\n",
       " 'winfo_y',\n",
       " 'withdraw',\n",
       " 'wm_aspect',\n",
       " 'wm_attributes',\n",
       " 'wm_client',\n",
       " 'wm_colormapwindows',\n",
       " 'wm_command',\n",
       " 'wm_deiconify',\n",
       " 'wm_focusmodel',\n",
       " 'wm_forget',\n",
       " 'wm_frame',\n",
       " 'wm_geometry',\n",
       " 'wm_grid',\n",
       " 'wm_group',\n",
       " 'wm_iconbitmap',\n",
       " 'wm_iconify',\n",
       " 'wm_iconmask',\n",
       " 'wm_iconname',\n",
       " 'wm_iconphoto',\n",
       " 'wm_iconposition',\n",
       " 'wm_iconwindow',\n",
       " 'wm_manage',\n",
       " 'wm_maxsize',\n",
       " 'wm_minsize',\n",
       " 'wm_overrideredirect',\n",
       " 'wm_positionfrom',\n",
       " 'wm_protocol',\n",
       " 'wm_resizable',\n",
       " 'wm_sizefrom',\n",
       " 'wm_state',\n",
       " 'wm_title',\n",
       " 'wm_transient',\n",
       " 'wm_withdraw']"
      ]
     },
     "execution_count": 63,
     "metadata": {},
     "output_type": "execute_result"
    }
   ],
   "source": [
    "dir(tk.Tk())"
   ]
  },
  {
   "cell_type": "code",
   "execution_count": null,
   "metadata": {},
   "outputs": [],
   "source": []
  },
  {
   "cell_type": "code",
   "execution_count": null,
   "metadata": {},
   "outputs": [],
   "source": []
  },
  {
   "cell_type": "code",
   "execution_count": null,
   "metadata": {},
   "outputs": [],
   "source": []
  },
  {
   "cell_type": "code",
   "execution_count": null,
   "metadata": {},
   "outputs": [],
   "source": []
  },
  {
   "cell_type": "code",
   "execution_count": null,
   "metadata": {},
   "outputs": [],
   "source": []
  },
  {
   "cell_type": "code",
   "execution_count": null,
   "metadata": {},
   "outputs": [],
   "source": []
  },
  {
   "cell_type": "code",
   "execution_count": null,
   "metadata": {},
   "outputs": [],
   "source": []
  },
  {
   "cell_type": "code",
   "execution_count": null,
   "metadata": {},
   "outputs": [],
   "source": []
  },
  {
   "cell_type": "code",
   "execution_count": null,
   "metadata": {},
   "outputs": [],
   "source": []
  },
  {
   "cell_type": "code",
   "execution_count": null,
   "metadata": {},
   "outputs": [],
   "source": []
  },
  {
   "cell_type": "code",
   "execution_count": null,
   "metadata": {},
   "outputs": [],
   "source": []
  },
  {
   "cell_type": "code",
   "execution_count": null,
   "metadata": {},
   "outputs": [],
   "source": []
  },
  {
   "cell_type": "code",
   "execution_count": null,
   "metadata": {},
   "outputs": [],
   "source": []
  },
  {
   "cell_type": "code",
   "execution_count": null,
   "metadata": {},
   "outputs": [],
   "source": []
  },
  {
   "cell_type": "code",
   "execution_count": null,
   "metadata": {},
   "outputs": [],
   "source": []
  },
  {
   "cell_type": "code",
   "execution_count": null,
   "metadata": {},
   "outputs": [],
   "source": []
  },
  {
   "cell_type": "code",
   "execution_count": null,
   "metadata": {},
   "outputs": [],
   "source": []
  }
 ],
 "metadata": {
  "kernelspec": {
   "display_name": "Python 3",
   "language": "python",
   "name": "python3"
  },
  "language_info": {
   "codemirror_mode": {
    "name": "ipython",
    "version": 3
   },
   "file_extension": ".py",
   "mimetype": "text/x-python",
   "name": "python",
   "nbconvert_exporter": "python",
   "pygments_lexer": "ipython3",
   "version": "3.6.5"
  }
 },
 "nbformat": 4,
 "nbformat_minor": 2
}
