{
 "cells": [
  {
   "cell_type": "code",
   "execution_count": 2,
   "metadata": {},
   "outputs": [
    {
     "name": "stdout",
     "output_type": "stream",
     "text": [
      "          *\n",
      "         **\n",
      "        ***\n",
      "       ****\n",
      "      *****\n",
      "     ******\n",
      "    *******\n",
      "   ********\n",
      "  *********\n",
      " **********\n"
     ]
    }
   ],
   "source": [
    "c=1\n",
    "while c<=10:\n",
    "    print(\" \"*(10-c),\"*\"*c)\n",
    "    c=c+1\n"
   ]
  },
  {
   "cell_type": "code",
   "execution_count": null,
   "metadata": {},
   "outputs": [],
   "source": []
  },
  {
   "cell_type": "markdown",
   "metadata": {},
   "source": [
    "Function:- set of statements that perform a specific task"
   ]
  },
  {
   "cell_type": "markdown",
   "metadata": {},
   "source": [
    "* For loop works on sequences not on variables \n",
    "* For loop works on iterator and generator"
   ]
  },
  {
   "cell_type": "code",
   "execution_count": 1,
   "metadata": {},
   "outputs": [],
   "source": [
    "import builtins"
   ]
  },
  {
   "cell_type": "code",
   "execution_count": 2,
   "metadata": {},
   "outputs": [
    {
     "name": "stdout",
     "output_type": "stream",
     "text": [
      "['ArithmeticError', 'AssertionError', 'AttributeError', 'BaseException', 'BlockingIOError', 'BrokenPipeError', 'BufferError', 'BytesWarning', 'ChildProcessError', 'ConnectionAbortedError', 'ConnectionError', 'ConnectionRefusedError', 'ConnectionResetError', 'DeprecationWarning', 'EOFError', 'Ellipsis', 'EnvironmentError', 'Exception', 'False', 'FileExistsError', 'FileNotFoundError', 'FloatingPointError', 'FutureWarning', 'GeneratorExit', 'IOError', 'ImportError', 'ImportWarning', 'IndentationError', 'IndexError', 'InterruptedError', 'IsADirectoryError', 'KeyError', 'KeyboardInterrupt', 'LookupError', 'MemoryError', 'ModuleNotFoundError', 'NameError', 'None', 'NotADirectoryError', 'NotImplemented', 'NotImplementedError', 'OSError', 'OverflowError', 'PendingDeprecationWarning', 'PermissionError', 'ProcessLookupError', 'RecursionError', 'ReferenceError', 'ResourceWarning', 'RuntimeError', 'RuntimeWarning', 'StopAsyncIteration', 'StopIteration', 'SyntaxError', 'SyntaxWarning', 'SystemError', 'SystemExit', 'TabError', 'TimeoutError', 'True', 'TypeError', 'UnboundLocalError', 'UnicodeDecodeError', 'UnicodeEncodeError', 'UnicodeError', 'UnicodeTranslateError', 'UnicodeWarning', 'UserWarning', 'ValueError', 'Warning', 'WindowsError', 'ZeroDivisionError', '__IPYTHON__', '__build_class__', '__debug__', '__doc__', '__import__', '__loader__', '__name__', '__package__', '__spec__', 'abs', 'all', 'any', 'ascii', 'bin', 'bool', 'bytearray', 'bytes', 'callable', 'chr', 'classmethod', 'compile', 'complex', 'copyright', 'credits', 'delattr', 'dict', 'dir', 'display', 'divmod', 'enumerate', 'eval', 'exec', 'filter', 'float', 'format', 'frozenset', 'get_ipython', 'getattr', 'globals', 'hasattr', 'hash', 'help', 'hex', 'id', 'input', 'int', 'isinstance', 'issubclass', 'iter', 'len', 'license', 'list', 'locals', 'map', 'max', 'memoryview', 'min', 'next', 'object', 'oct', 'open', 'ord', 'pow', 'print', 'property', 'range', 'repr', 'reversed', 'round', 'set', 'setattr', 'slice', 'sorted', 'staticmethod', 'str', 'sum', 'super', 'tuple', 'type', 'vars', 'zip']\n"
     ]
    }
   ],
   "source": [
    "print(dir(builtins))"
   ]
  },
  {
   "cell_type": "code",
   "execution_count": 14,
   "metadata": {},
   "outputs": [
    {
     "name": "stdout",
     "output_type": "stream",
     "text": [
      "Help on class enumerate in module builtins:\n",
      "\n",
      "class enumerate(object)\n",
      " |  enumerate(iterable[, start]) -> iterator for index, value of iterable\n",
      " |  \n",
      " |  Return an enumerate object.  iterable must be another object that supports\n",
      " |  iteration.  The enumerate object yields pairs containing a count (from\n",
      " |  start, which defaults to zero) and a value yielded by the iterable argument.\n",
      " |  enumerate is useful for obtaining an indexed list:\n",
      " |      (0, seq[0]), (1, seq[1]), (2, seq[2]), ...\n",
      " |  \n",
      " |  Methods defined here:\n",
      " |  \n",
      " |  __getattribute__(self, name, /)\n",
      " |      Return getattr(self, name).\n",
      " |  \n",
      " |  __iter__(self, /)\n",
      " |      Implement iter(self).\n",
      " |  \n",
      " |  __new__(*args, **kwargs) from builtins.type\n",
      " |      Create and return a new object.  See help(type) for accurate signature.\n",
      " |  \n",
      " |  __next__(self, /)\n",
      " |      Implement next(self).\n",
      " |  \n",
      " |  __reduce__(...)\n",
      " |      Return state information for pickling.\n",
      "\n"
     ]
    }
   ],
   "source": [
    "help(builtins.enumerate)"
   ]
  },
  {
   "cell_type": "code",
   "execution_count": 16,
   "metadata": {},
   "outputs": [
    {
     "name": "stdout",
     "output_type": "stream",
     "text": [
      "enumerate(iterable[, start]) -> iterator for index, value of iterable\n",
      "\n",
      "Return an enumerate object.  iterable must be another object that supports\n",
      "iteration.  The enumerate object yields pairs containing a count (from\n",
      "start, which defaults to zero) and a value yielded by the iterable argument.\n",
      "enumerate is useful for obtaining an indexed list:\n",
      "    (0, seq[0]), (1, seq[1]), (2, seq[2]), ...\n"
     ]
    }
   ],
   "source": [
    "print(builtins.enumerate.__doc__)"
   ]
  },
  {
   "cell_type": "markdown",
   "metadata": {},
   "source": [
    "enumerate means do numbering"
   ]
  },
  {
   "cell_type": "code",
   "execution_count": 23,
   "metadata": {},
   "outputs": [
    {
     "name": "stdout",
     "output_type": "stream",
     "text": [
      "hello world\n",
      "None\n"
     ]
    }
   ],
   "source": [
    "a=print(\"hello world\")\n",
    "print(a)"
   ]
  },
  {
   "cell_type": "code",
   "execution_count": 24,
   "metadata": {},
   "outputs": [
    {
     "data": {
      "text/plain": [
       "{'__name__': '__main__',\n",
       " '__doc__': 'Automatically created module for IPython interactive environment',\n",
       " '__package__': None,\n",
       " '__loader__': None,\n",
       " '__spec__': None,\n",
       " '__builtin__': <module 'builtins' (built-in)>,\n",
       " '__builtins__': <module 'builtins' (built-in)>,\n",
       " '_ih': ['',\n",
       "  'import builtins',\n",
       "  'print(dir(builtins))',\n",
       "  'help(builitins.bytes)',\n",
       "  'help(builtins.bytes)',\n",
       "  'help(builtins.byte.__doc()__)',\n",
       "  'help(builtins.byte.__doc__)',\n",
       "  'help(builtins.byte.__doc__())',\n",
       "  'help(builtins.bytes.__doc__())',\n",
       "  'help(builtins.bytes.__doc__',\n",
       "  'help(builtins.bytes.__doc()__)',\n",
       "  'help(builtins.bytes.__doc___)',\n",
       "  'help(builtins.bytes.__doc__)',\n",
       "  'help(builtins.enumerator)',\n",
       "  'help(builtins.enumerate)',\n",
       "  'help(builtins.enumerate.__doc__)',\n",
       "  'print(builtins.enumerate.__doc__)',\n",
       "  'a=\"hello world\"',\n",
       "  'print(a)',\n",
       "  'a=\"hello world\"\\nprint(a)',\n",
       "  'a=print(\"hello world\")\\nprint(a)',\n",
       "  'a=print(\"hello world\")\\na',\n",
       "  'a=print(\"hello world\")\\nprinr(a)',\n",
       "  'a=print(\"hello world\")\\nprint(a)',\n",
       "  'globals()'],\n",
       " '_oh': {},\n",
       " '_dh': ['C:\\\\Users\\\\Gulshan\\\\Desktop\\\\Batch 1pm'],\n",
       " 'In': ['',\n",
       "  'import builtins',\n",
       "  'print(dir(builtins))',\n",
       "  'help(builitins.bytes)',\n",
       "  'help(builtins.bytes)',\n",
       "  'help(builtins.byte.__doc()__)',\n",
       "  'help(builtins.byte.__doc__)',\n",
       "  'help(builtins.byte.__doc__())',\n",
       "  'help(builtins.bytes.__doc__())',\n",
       "  'help(builtins.bytes.__doc__',\n",
       "  'help(builtins.bytes.__doc()__)',\n",
       "  'help(builtins.bytes.__doc___)',\n",
       "  'help(builtins.bytes.__doc__)',\n",
       "  'help(builtins.enumerator)',\n",
       "  'help(builtins.enumerate)',\n",
       "  'help(builtins.enumerate.__doc__)',\n",
       "  'print(builtins.enumerate.__doc__)',\n",
       "  'a=\"hello world\"',\n",
       "  'print(a)',\n",
       "  'a=\"hello world\"\\nprint(a)',\n",
       "  'a=print(\"hello world\")\\nprint(a)',\n",
       "  'a=print(\"hello world\")\\na',\n",
       "  'a=print(\"hello world\")\\nprinr(a)',\n",
       "  'a=print(\"hello world\")\\nprint(a)',\n",
       "  'globals()'],\n",
       " 'Out': {},\n",
       " 'get_ipython': <bound method InteractiveShell.get_ipython of <ipykernel.zmqshell.ZMQInteractiveShell object at 0x0000015FFF9C3DA0>>,\n",
       " 'exit': <IPython.core.autocall.ZMQExitAutocall at 0x15fffa232e8>,\n",
       " 'quit': <IPython.core.autocall.ZMQExitAutocall at 0x15fffa232e8>,\n",
       " '_': '',\n",
       " '__': '',\n",
       " '___': '',\n",
       " '_i': 'a=print(\"hello world\")\\nprint(a)',\n",
       " '_ii': 'a=print(\"hello world\")\\nprinr(a)',\n",
       " '_iii': 'a=print(\"hello world\")\\na',\n",
       " '_i1': 'import builtins',\n",
       " 'builtins': <module 'builtins' (built-in)>,\n",
       " '_i2': 'print(dir(builtins))',\n",
       " '_i3': 'help(builitins.bytes)',\n",
       " '_i4': 'help(builtins.bytes)',\n",
       " '_i5': 'help(builtins.byte.__doc()__)',\n",
       " '_i6': 'help(builtins.byte.__doc__)',\n",
       " '_i7': 'help(builtins.byte.__doc__())',\n",
       " '_i8': 'help(builtins.bytes.__doc__())',\n",
       " '_i9': 'help(builtins.bytes.__doc__',\n",
       " '_i10': 'help(builtins.bytes.__doc()__)',\n",
       " '_i11': 'help(builtins.bytes.__doc___)',\n",
       " '_i12': 'help(builtins.bytes.__doc__)',\n",
       " '_i13': 'help(builtins.enumerator)',\n",
       " '_i14': 'help(builtins.enumerate)',\n",
       " '_i15': 'help(builtins.enumerate.__doc__)',\n",
       " '_i16': 'print(builtins.enumerate.__doc__)',\n",
       " '_i17': 'a=\"hello world\"',\n",
       " 'a': None,\n",
       " '_i18': 'print(a)',\n",
       " '_i19': 'a=\"hello world\"\\nprint(a)',\n",
       " '_i20': 'a=print(\"hello world\")\\nprint(a)',\n",
       " '_i21': 'a=print(\"hello world\")\\na',\n",
       " '_i22': 'a=print(\"hello world\")\\nprinr(a)',\n",
       " '_i23': 'a=print(\"hello world\")\\nprint(a)',\n",
       " '_i24': 'globals()'}"
      ]
     },
     "execution_count": 24,
     "metadata": {},
     "output_type": "execute_result"
    }
   ],
   "source": [
    "globals()"
   ]
  },
  {
   "cell_type": "code",
   "execution_count": 26,
   "metadata": {},
   "outputs": [
    {
     "data": {
      "text/plain": [
       "True"
      ]
     },
     "execution_count": 26,
     "metadata": {},
     "output_type": "execute_result"
    }
   ],
   "source": [
    "globals()==locals()"
   ]
  },
  {
   "cell_type": "markdown",
   "metadata": {},
   "source": [
    "with arg no return type:-\n",
    "1.append()\n",
    "2.insert()\n",
    "3.sort()\n",
    "4.extend()\n"
   ]
  },
  {
   "cell_type": "markdown",
   "metadata": {},
   "source": [
    "without arg with return type:-\n",
    "1.upper()\n",
    "2.lower()"
   ]
  },
  {
   "cell_type": "markdown",
   "metadata": {},
   "source": [
    "with arg with return type:-\n",
    "1.zip()\n",
    "2.map()"
   ]
  },
  {
   "cell_type": "code",
   "execution_count": null,
   "metadata": {},
   "outputs": [],
   "source": []
  },
  {
   "cell_type": "code",
   "execution_count": null,
   "metadata": {},
   "outputs": [],
   "source": []
  }
 ],
 "metadata": {
  "kernelspec": {
   "display_name": "Python 3",
   "language": "python",
   "name": "python3"
  },
  "language_info": {
   "codemirror_mode": {
    "name": "ipython",
    "version": 3
   },
   "file_extension": ".py",
   "mimetype": "text/x-python",
   "name": "python",
   "nbconvert_exporter": "python",
   "pygments_lexer": "ipython3",
   "version": "3.6.5"
  }
 },
 "nbformat": 4,
 "nbformat_minor": 2
}
