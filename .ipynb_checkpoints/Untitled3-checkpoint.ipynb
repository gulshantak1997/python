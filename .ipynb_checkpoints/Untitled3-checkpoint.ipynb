{
 "cells": [
  {
   "cell_type": "markdown",
   "metadata": {},
   "source": [
    "when we change data in same id then it is called mutable"
   ]
  },
  {
   "cell_type": "code",
   "execution_count": 1,
   "metadata": {},
   "outputs": [
    {
     "data": {
      "text/plain": [
       "1432186048"
      ]
     },
     "execution_count": 1,
     "metadata": {},
     "output_type": "execute_result"
    }
   ],
   "source": [
    "x=5\n",
    "id(x)"
   ]
  },
  {
   "cell_type": "code",
   "execution_count": 4,
   "metadata": {},
   "outputs": [
    {
     "data": {
      "text/plain": [
       "1432186048"
      ]
     },
     "execution_count": 4,
     "metadata": {},
     "output_type": "execute_result"
    }
   ],
   "source": [
    "y=5\n",
    "id(y)"
   ]
  },
  {
   "cell_type": "code",
   "execution_count": 6,
   "metadata": {},
   "outputs": [
    {
     "data": {
      "text/plain": [
       "1432186080"
      ]
     },
     "execution_count": 6,
     "metadata": {},
     "output_type": "execute_result"
    }
   ],
   "source": [
    "z=6\n",
    "id(z)"
   ]
  },
  {
   "cell_type": "markdown",
   "metadata": {},
   "source": [
    "## Dictionary"
   ]
  },
  {
   "cell_type": "code",
   "execution_count": 7,
   "metadata": {},
   "outputs": [
    {
     "name": "stdout",
     "output_type": "stream",
     "text": [
      "\n",
      "Windows IP Configuration\n",
      "\n",
      "\n",
      "Ethernet adapter Ethernet:\n",
      "\n",
      "   Media State . . . . . . . . . . . : Media disconnected\n",
      "   Connection-specific DNS Suffix  . : \n",
      "\n",
      "Wireless LAN adapter Local Area Connection* 2:\n",
      "\n",
      "   Media State . . . . . . . . . . . : Media disconnected\n",
      "   Connection-specific DNS Suffix  . : \n",
      "\n",
      "Wireless LAN adapter Local Area Connection* 3:\n",
      "\n",
      "   Media State . . . . . . . . . . . : Media disconnected\n",
      "   Connection-specific DNS Suffix  . : \n",
      "\n",
      "Ethernet adapter VMware Network Adapter VMnet1:\n",
      "\n",
      "   Connection-specific DNS Suffix  . : \n",
      "   Link-local IPv6 Address . . . . . : fe80::ac38:a932:182c:9e4d%41\n",
      "   IPv4 Address. . . . . . . . . . . : 192.168.16.1\n",
      "   Subnet Mask . . . . . . . . . . . : 255.255.255.0\n",
      "   Default Gateway . . . . . . . . . : \n",
      "\n",
      "Ethernet adapter VMware Network Adapter VMnet8:\n",
      "\n",
      "   Connection-specific DNS Suffix  . : \n",
      "   Link-local IPv6 Address . . . . . : fe80::41d0:b3fe:2e23:7783%42\n",
      "   IPv4 Address. . . . . . . . . . . : 192.168.72.1\n",
      "   Subnet Mask . . . . . . . . . . . : 255.255.255.0\n",
      "   Default Gateway . . . . . . . . . : \n",
      "\n",
      "Wireless LAN adapter Wi-Fi:\n",
      "\n",
      "   Media State . . . . . . . . . . . : Media disconnected\n",
      "   Connection-specific DNS Suffix  . : \n",
      "\n",
      "Ethernet adapter Bluetooth Network Connection:\n",
      "\n",
      "   Media State . . . . . . . . . . . : Media disconnected\n",
      "   Connection-specific DNS Suffix  . : \n"
     ]
    }
   ],
   "source": [
    "!ipconfig"
   ]
  },
  {
   "cell_type": "code",
   "execution_count": 8,
   "metadata": {},
   "outputs": [],
   "source": [
    "!notepad"
   ]
  },
  {
   "cell_type": "code",
   "execution_count": 11,
   "metadata": {},
   "outputs": [
    {
     "name": "stderr",
     "output_type": "stream",
     "text": [
      "Python 3.6.5 :: Anaconda, Inc.\n"
     ]
    }
   ],
   "source": [
    "!python --version\n"
   ]
  },
  {
   "cell_type": "code",
   "execution_count": null,
   "metadata": {},
   "outputs": [],
   "source": []
  },
  {
   "cell_type": "code",
   "execution_count": null,
   "metadata": {},
   "outputs": [],
   "source": []
  },
  {
   "cell_type": "code",
   "execution_count": null,
   "metadata": {},
   "outputs": [],
   "source": []
  },
  {
   "cell_type": "code",
   "execution_count": null,
   "metadata": {},
   "outputs": [],
   "source": []
  },
  {
   "cell_type": "code",
   "execution_count": null,
   "metadata": {},
   "outputs": [],
   "source": []
  },
  {
   "cell_type": "code",
   "execution_count": null,
   "metadata": {},
   "outputs": [],
   "source": []
  },
  {
   "cell_type": "code",
   "execution_count": null,
   "metadata": {},
   "outputs": [],
   "source": []
  },
  {
   "cell_type": "code",
   "execution_count": null,
   "metadata": {},
   "outputs": [],
   "source": []
  },
  {
   "cell_type": "code",
   "execution_count": null,
   "metadata": {},
   "outputs": [],
   "source": []
  },
  {
   "cell_type": "code",
   "execution_count": null,
   "metadata": {},
   "outputs": [],
   "source": []
  }
 ],
 "metadata": {
  "kernelspec": {
   "display_name": "Python 3",
   "language": "python",
   "name": "python3"
  },
  "language_info": {
   "codemirror_mode": {
    "name": "ipython",
    "version": 3
   },
   "file_extension": ".py",
   "mimetype": "text/x-python",
   "name": "python",
   "nbconvert_exporter": "python",
   "pygments_lexer": "ipython3",
   "version": "3.6.5"
  }
 },
 "nbformat": 4,
 "nbformat_minor": 2
}
