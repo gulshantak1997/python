{
 "cells": [
  {
   "cell_type": "code",
   "execution_count": 24,
   "metadata": {},
   "outputs": [
    {
     "name": "stdout",
     "output_type": "stream",
     "text": [
      "match not found\n"
     ]
    }
   ],
   "source": [
    "import re\n",
    "s=\"she shells sea shore on the sea\"\n",
    "patt=\"sea\"\n",
    "if(re.match(patt,s)):\n",
    "    print(\"match found\")\n",
    "else:\n",
    "    print(\"match not found\")\n",
    "\n"
   ]
  },
  {
   "cell_type": "code",
   "execution_count": 22,
   "metadata": {},
   "outputs": [
    {
     "name": "stdout",
     "output_type": "stream",
     "text": [
      "match found\n"
     ]
    }
   ],
   "source": [
    "import re\n",
    "s=\"she shells sea shore on the sea\"\n",
    "patt=\"sea\"\n",
    "if(re.search(patt,s)):\n",
    "    print(\"match found\")\n",
    "else:\n",
    "    print(\"match not found\")\n",
    "\n"
   ]
  },
  {
   "cell_type": "code",
   "execution_count": 29,
   "metadata": {},
   "outputs": [
    {
     "data": {
      "text/plain": [
       "-1"
      ]
     },
     "execution_count": 29,
     "metadata": {},
     "output_type": "execute_result"
    }
   ],
   "source": [
    "5%-3"
   ]
  },
  {
   "cell_type": "code",
   "execution_count": 32,
   "metadata": {},
   "outputs": [
    {
     "data": {
      "text/plain": [
       "1"
      ]
     },
     "execution_count": 32,
     "metadata": {},
     "output_type": "execute_result"
    }
   ],
   "source": [
    "-5%3"
   ]
  },
  {
   "cell_type": "code",
   "execution_count": 34,
   "metadata": {},
   "outputs": [
    {
     "data": {
      "text/plain": [
       "-2"
      ]
     },
     "execution_count": 34,
     "metadata": {},
     "output_type": "execute_result"
    }
   ],
   "source": [
    "10%-3"
   ]
  },
  {
   "cell_type": "code",
   "execution_count": null,
   "metadata": {},
   "outputs": [],
   "source": []
  },
  {
   "cell_type": "code",
   "execution_count": null,
   "metadata": {},
   "outputs": [],
   "source": []
  },
  {
   "cell_type": "code",
   "execution_count": null,
   "metadata": {},
   "outputs": [],
   "source": []
  },
  {
   "cell_type": "markdown",
   "metadata": {},
   "source": [
    "## Control Flow Statements"
   ]
  },
  {
   "cell_type": "code",
   "execution_count": null,
   "metadata": {},
   "outputs": [],
   "source": []
  },
  {
   "cell_type": "code",
   "execution_count": 48,
   "metadata": {},
   "outputs": [
    {
     "ename": "IndentationError",
     "evalue": "unexpected indent (<ipython-input-48-9de4b08de1a8>, line 2)",
     "output_type": "error",
     "traceback": [
      "\u001b[1;36m  File \u001b[1;32m\"<ipython-input-48-9de4b08de1a8>\"\u001b[1;36m, line \u001b[1;32m2\u001b[0m\n\u001b[1;33m    print(x)\u001b[0m\n\u001b[1;37m    ^\u001b[0m\n\u001b[1;31mIndentationError\u001b[0m\u001b[1;31m:\u001b[0m unexpected indent\n"
     ]
    }
   ],
   "source": [
    "      x=5\n",
    "    print(x)"
   ]
  },
  {
   "cell_type": "code",
   "execution_count": 50,
   "metadata": {},
   "outputs": [
    {
     "data": {
      "text/plain": [
       "5"
      ]
     },
     "execution_count": 50,
     "metadata": {},
     "output_type": "execute_result"
    }
   ],
   "source": [
    "x         =        5\n",
    "x"
   ]
  },
  {
   "cell_type": "code",
   "execution_count": 51,
   "metadata": {},
   "outputs": [
    {
     "data": {
      "text/plain": [
       "False"
      ]
     },
     "execution_count": 51,
     "metadata": {},
     "output_type": "execute_result"
    }
   ],
   "source": [
    "bool(\"\")"
   ]
  },
  {
   "cell_type": "code",
   "execution_count": 52,
   "metadata": {},
   "outputs": [
    {
     "name": "stdout",
     "output_type": "stream",
     "text": [
      "Enter your name:gulshan\n",
      "Welcome user gulshan\n"
     ]
    }
   ],
   "source": [
    "name=input(\"Enter your name:\")\n",
    "if name:\n",
    "    print(f\"Welcome user {name}\")"
   ]
  },
  {
   "cell_type": "code",
   "execution_count": 53,
   "metadata": {},
   "outputs": [
    {
     "name": "stdout",
     "output_type": "stream",
     "text": [
      "Enter your name:\n"
     ]
    }
   ],
   "source": [
    "name=input(\"Enter your name:\")\n",
    "if name:\n",
    "    print(f\"Welcome user {name}\")\n",
    "#when we enter directly in the name"
   ]
  },
  {
   "cell_type": "code",
   "execution_count": 54,
   "metadata": {},
   "outputs": [
    {
     "name": "stdout",
     "output_type": "stream",
     "text": [
      "Enter your name: \n",
      "Welcome user  \n"
     ]
    }
   ],
   "source": [
    "name=input(\"Enter your name:\")\n",
    "if name:\n",
    "    print(f\"Welcome user {name}\")\n",
    "#when we write simple space in the name"
   ]
  },
  {
   "cell_type": "code",
   "execution_count": 55,
   "metadata": {},
   "outputs": [
    {
     "name": "stdout",
     "output_type": "stream",
     "text": [
      "Enter your name: \n"
     ]
    }
   ],
   "source": [
    "name=input(\"Enter your name:\").strip()\n",
    "if name:\n",
    "    print(f\"Welcome user {name}\")\n",
    "#when we write simple space in the name "
   ]
  },
  {
   "cell_type": "code",
   "execution_count": 2,
   "metadata": {},
   "outputs": [
    {
     "name": "stdout",
     "output_type": "stream",
     "text": [
      "Enter your choice:Yes\n",
      "Hello\n"
     ]
    }
   ],
   "source": [
    "ch=input(\"Enter your choice:\").strip().lower()\n",
    "if ch=='yes' or ch=='y':\n",
    "    print(\"Hello\")\n",
    "else:\n",
    "    print(\"Bhag ja yha se\")"
   ]
  },
  {
   "cell_type": "code",
   "execution_count": 4,
   "metadata": {},
   "outputs": [
    {
     "name": "stdout",
     "output_type": "stream",
     "text": [
      "Enter your choice:             Y          e             S\n",
      "Hello\n"
     ]
    }
   ],
   "source": [
    "ch=''.join(input(\"Enter your choice:\").split()).lower()\n",
    "if ch=='yes' or ch=='y':\n",
    "    print(\"Hello\")\n",
    "else:\n",
    "    print(\"Bhag ja yha se\")"
   ]
  },
  {
   "cell_type": "code",
   "execution_count": 6,
   "metadata": {},
   "outputs": [
    {
     "name": "stdout",
     "output_type": "stream",
     "text": [
      "Enter number:10\n",
      "even\n"
     ]
    }
   ],
   "source": [
    "n=int(input(\"Enter number:\"))\n",
    "if n%2:\n",
    "    print(\"odd\")\n",
    "else:\n",
    "    print(\"even\")"
   ]
  },
  {
   "cell_type": "code",
   "execution_count": 19,
   "metadata": {},
   "outputs": [
    {
     "name": "stdout",
     "output_type": "stream",
     "text": [
      "10\n",
      "10\n",
      "10\n",
      "all are same\n"
     ]
    }
   ],
   "source": [
    "a=int(input())\n",
    "b=int(input())\n",
    "c=int(input())\n",
    "if a>b and a>c:\n",
    "    print(\"a is bigger\")\n",
    "elif b>c:\n",
    "    print(\"b is bigger\")\n",
    "elif a==b and a==c:\n",
    "    print(\"all are same\")\n",
    "else:\n",
    "    print(\"c is bigger\")"
   ]
  },
  {
   "cell_type": "code",
   "execution_count": 15,
   "metadata": {},
   "outputs": [
    {
     "name": "stdout",
     "output_type": "stream",
     "text": [
      "a b c:5 6 7\n",
      "7 is greatest\n"
     ]
    }
   ],
   "source": [
    "a,b,c=map(int,input(\"a b c:\").split())\n",
    "if a>=b and a>=c:\n",
    "    f=c\n",
    "elif b>=c:\n",
    "    f=b\n",
    "else:\n",
    "    f=c\n",
    "print(f\"{f} is greatest\")\n"
   ]
  },
  {
   "cell_type": "code",
   "execution_count": 1,
   "metadata": {},
   "outputs": [
    {
     "name": "stdout",
     "output_type": "stream",
     "text": [
      "Tell your job whether private,govt or business:private\n",
      "Sorry, we cant provide loan\n"
     ]
    }
   ],
   "source": [
    "job=input(\"Tell your job whether private,govt or business:\")\n",
    "if job==\"private\":\n",
    "    print(\"Sorry, we cant provide loan\")\n",
    "elif job==\"govt\":\n",
    "    print(\"Tell your salary:\")\n",
    "    salary=int(input())\n",
    "    if(salary>=50000):\n",
    "        print(\"we can provide you loan\")\n",
    "    else:\n",
    "        print(\"sorry, we cant provide loan\")\n",
    "elif job==\"business\":\n",
    "    print(\"Tell your turnover:\")\n",
    "    turnover=int(input())\n",
    "    if(turnover<=500000):\n",
    "        print(\"Bhag ja yha se\")\n",
    "    else:\n",
    "        print(\"we can provide you loan\")"
   ]
  },
  {
   "cell_type": "code",
   "execution_count": 2,
   "metadata": {},
   "outputs": [
    {
     "name": "stdout",
     "output_type": "stream",
     "text": [
      "Player1 Choice:········\n",
      "Player2 Choice:········\n"
     ]
    }
   ],
   "source": [
    "# rock,paper,scissor\n",
    "from getpass import getpass\n",
    "ch1=getpass(\"Player1 Choice:\")\n",
    "ch2=getpass(\"Player2 Choice:\")"
   ]
  },
  {
   "cell_type": "code",
   "execution_count": 3,
   "metadata": {},
   "outputs": [
    {
     "name": "stdout",
     "output_type": "stream",
     "text": [
      "Player1 Choice:········\n",
      "Player2 Choice:········\n",
      "Player2 has won the game\n"
     ]
    }
   ],
   "source": [
    "# rock,paper,scissor\n",
    "from getpass import getpass\n",
    "ch1=getpass(\"Player1 Choice:\")\n",
    "ch2=getpass(\"Player2 Choice:\")\n",
    "p1_win=((\"rock\",\"scissor\"),(\"paper\",\"rock\"),(\"scissor\",\"paper\"))\n",
    "if(ch1,ch2) in p1_win:\n",
    "    print(\"Player1 Has Won the Game\")\n",
    "elif ch1==ch2:\n",
    "    print(\"match Tie\")\n",
    "else:\n",
    "    print(\"Player2 has won the game\")"
   ]
  },
  {
   "cell_type": "code",
   "execution_count": 1,
   "metadata": {},
   "outputs": [
    {
     "name": "stdout",
     "output_type": "stream",
     "text": [
      "Enter password········\n",
      "confirm password········\n",
      "Wrong Password\n"
     ]
    }
   ],
   "source": [
    "from getpass import getpass\n",
    "password1=getpass(\"Enter password\")\n",
    "password2=getpass(\"confirm password\")\n",
    "if password1==password2:\n",
    "    print(\"Password Changed\")\n",
    "else:\n",
    "    print(\"Wrong Password\")"
   ]
  },
  {
   "cell_type": "code",
   "execution_count": null,
   "metadata": {},
   "outputs": [],
   "source": []
  },
  {
   "cell_type": "code",
   "execution_count": null,
   "metadata": {},
   "outputs": [],
   "source": []
  },
  {
   "cell_type": "code",
   "execution_count": null,
   "metadata": {},
   "outputs": [],
   "source": []
  },
  {
   "cell_type": "code",
   "execution_count": null,
   "metadata": {},
   "outputs": [],
   "source": []
  },
  {
   "cell_type": "code",
   "execution_count": null,
   "metadata": {},
   "outputs": [],
   "source": []
  },
  {
   "cell_type": "code",
   "execution_count": null,
   "metadata": {},
   "outputs": [],
   "source": []
  },
  {
   "cell_type": "code",
   "execution_count": null,
   "metadata": {},
   "outputs": [],
   "source": []
  },
  {
   "cell_type": "code",
   "execution_count": null,
   "metadata": {},
   "outputs": [],
   "source": []
  },
  {
   "cell_type": "code",
   "execution_count": null,
   "metadata": {},
   "outputs": [],
   "source": []
  },
  {
   "cell_type": "code",
   "execution_count": null,
   "metadata": {},
   "outputs": [],
   "source": []
  },
  {
   "cell_type": "code",
   "execution_count": null,
   "metadata": {},
   "outputs": [],
   "source": []
  },
  {
   "cell_type": "code",
   "execution_count": null,
   "metadata": {},
   "outputs": [],
   "source": []
  }
 ],
 "metadata": {
  "kernelspec": {
   "display_name": "Python 3",
   "language": "python",
   "name": "python3"
  },
  "language_info": {
   "codemirror_mode": {
    "name": "ipython",
    "version": 3
   },
   "file_extension": ".py",
   "mimetype": "text/x-python",
   "name": "python",
   "nbconvert_exporter": "python",
   "pygments_lexer": "ipython3",
   "version": "3.6.5"
  }
 },
 "nbformat": 4,
 "nbformat_minor": 2
}
